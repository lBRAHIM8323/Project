{
 "cells": [
  {
   "cell_type": "code",
   "execution_count": 36,
   "id": "62c168ce",
   "metadata": {},
   "outputs": [],
   "source": [
    "import numpy as np\n",
    "import pandas as pd\n",
    "from fuzzywuzzy import fuzz"
   ]
  },
  {
   "cell_type": "code",
   "execution_count": 37,
   "id": "6aa6bb94",
   "metadata": {},
   "outputs": [],
   "source": [
    "amazon_ds = pd.read_csv(\"amazon_catalogue.csv\", encoding='latin-1')"
   ]
  },
  {
   "cell_type": "code",
   "execution_count": 38,
   "id": "5511085f",
   "metadata": {},
   "outputs": [
    {
     "data": {
      "text/plain": [
       "(43950, 3)"
      ]
     },
     "execution_count": 38,
     "metadata": {},
     "output_type": "execute_result"
    }
   ],
   "source": [
    "amazon_ds.head()\n",
    "amazon_ds.shape"
   ]
  },
  {
   "cell_type": "code",
   "execution_count": 39,
   "id": "af459d5e",
   "metadata": {},
   "outputs": [
    {
     "name": "stderr",
     "output_type": "stream",
     "text": [
      "C:\\Users\\mohammad\\AppData\\Local\\Temp\\ipykernel_19224\\1737326351.py:1: DtypeWarning: Columns (7,8,33) have mixed types. Specify dtype option on import or set low_memory=False.\n",
      "  product_master = pd.read_csv(\"Jaggi_756_ProductMaster.csv\")\n"
     ]
    },
    {
     "data": {
      "text/plain": [
       "(42880, 34)"
      ]
     },
     "execution_count": 39,
     "metadata": {},
     "output_type": "execute_result"
    }
   ],
   "source": [
    "product_master = pd.read_csv(\"Jaggi_756_ProductMaster.csv\")\n",
    "product_master.head()\n",
    "product_master.shape"
   ]
  },
  {
   "cell_type": "code",
   "execution_count": 40,
   "id": "725353bb",
   "metadata": {},
   "outputs": [
    {
     "name": "stdout",
     "output_type": "stream",
     "text": [
      "<class 'pandas.core.frame.DataFrame'>\n",
      "RangeIndex: 42880 entries, 0 to 42879\n",
      "Data columns (total 34 columns):\n",
      " #   Column                         Non-Null Count  Dtype  \n",
      "---  ------                         --------------  -----  \n",
      " 0   Product_ID                     42880 non-null  int64  \n",
      " 1   Client_ID                      42880 non-null  int64  \n",
      " 2   Product_Code                   42879 non-null  object \n",
      " 3   Product_Desc                   42879 non-null  object \n",
      " 4   UOM                            0 non-null      float64\n",
      " 5   Packsize                       41716 non-null  object \n",
      " 6   Manufacturer                   42874 non-null  object \n",
      " 7   MRP                            42724 non-null  object \n",
      " 8   PTS                            42880 non-null  object \n",
      " 9   PTR                            42879 non-null  float64\n",
      " 10  Narco_Product_limit            40949 non-null  float64\n",
      " 11  ProductFormId                  45 non-null     float64\n",
      " 12  Active                         42874 non-null  float64\n",
      " 13  short_supply                   42827 non-null  float64\n",
      " 14  BoxSize                        1937 non-null   object \n",
      " 15  ShortName                      42823 non-null  object \n",
      " 16  CreatedBy                      45 non-null     object \n",
      " 17  CreatedOn                      42841 non-null  object \n",
      " 18  ModifiedBy                     48 non-null     object \n",
      " 19  ModifiedOn                     42760 non-null  object \n",
      " 20  visiable_product_saleman       42865 non-null  float64\n",
      " 21  visiable_product_Retailer      42864 non-null  float64\n",
      " 22  ERPProductID                   40982 non-null  float64\n",
      " 23  CategoryID                     42826 non-null  float64\n",
      " 24  Category                       0 non-null      float64\n",
      " 25  molecular_id                   38 non-null     float64\n",
      " 26  P_ID                           40935 non-null  float64\n",
      " 27  GST_PER                        39 non-null     object \n",
      " 28  Manufacturer_Code              41497 non-null  object \n",
      " 29  ED_MDM_Product_Code            38619 non-null  object \n",
      " 30  ED_MDM_Product_Image           26 non-null     object \n",
      " 31  ED_MDM_Product_Document_Image  0 non-null      float64\n",
      " 32  ED_MDM_Product_Creation_Time   0 non-null      float64\n",
      " 33  Match                          504 non-null    object \n",
      "dtypes: float64(15), int64(2), object(17)\n",
      "memory usage: 11.1+ MB\n"
     ]
    }
   ],
   "source": [
    "product_master.info()"
   ]
  },
  {
   "cell_type": "code",
   "execution_count": 41,
   "id": "7372087b",
   "metadata": {},
   "outputs": [],
   "source": [
    "item_list = []\n",
    "for items in amazon_ds['item_name']:\n",
    "    items = items.upper()\n",
    "    item_list.append(items)\n",
    "# print(item_list)"
   ]
  },
  {
   "cell_type": "code",
   "execution_count": 42,
   "id": "fe20df70",
   "metadata": {},
   "outputs": [],
   "source": [
    "descs_list = []\n",
    "for descs in product_master['Product_Desc']:\n",
    "    descs = str(descs)\n",
    "    descs_list.append(descs)    \n",
    "# print(descs_list)"
   ]
  },
  {
   "cell_type": "code",
   "execution_count": 43,
   "id": "5e9a526b",
   "metadata": {},
   "outputs": [
    {
     "name": "stdout",
     "output_type": "stream",
     "text": [
      "ACINIL-O SYRUP 200ML & PRACTIN SYRUP 200ML Are similar\n",
      "ACNE-UV GEL SPF 30 , 60 G & ACNE UV GEL SPF 30 60GM. Are similar\n",
      "ACNE-UV GEL SPF 30 , 60 G & ACNE UV GEL SPF 30 60GM.. Are similar\n",
      "ACNE-UV GEL SPF 30 , 60 G & ACNE UV GEL SPF 30 60GM Are similar\n",
      "ADENOMAC 400 TABLET 10'S & ADENOMAC 400 10S Are similar\n"
     ]
    },
    {
     "ename": "KeyboardInterrupt",
     "evalue": "",
     "output_type": "error",
     "traceback": [
      "\u001b[1;31m---------------------------------------------------------------------------\u001b[0m",
      "\u001b[1;31mKeyboardInterrupt\u001b[0m                         Traceback (most recent call last)",
      "\u001b[1;32m~\\AppData\\Local\\Temp\\ipykernel_19224\\2871517117.py\u001b[0m in \u001b[0;36m<module>\u001b[1;34m\u001b[0m\n\u001b[0;32m      4\u001b[0m \u001b[1;32mfor\u001b[0m \u001b[0mi\u001b[0m \u001b[1;32min\u001b[0m \u001b[0mlist1\u001b[0m\u001b[1;33m:\u001b[0m\u001b[1;33m\u001b[0m\u001b[1;33m\u001b[0m\u001b[0m\n\u001b[0;32m      5\u001b[0m     \u001b[1;32mfor\u001b[0m \u001b[0mj\u001b[0m \u001b[1;32min\u001b[0m \u001b[0mlist2\u001b[0m\u001b[1;33m:\u001b[0m\u001b[1;33m\u001b[0m\u001b[1;33m\u001b[0m\u001b[0m\n\u001b[1;32m----> 6\u001b[1;33m         \u001b[0msimilarity_score\u001b[0m \u001b[1;33m=\u001b[0m \u001b[0mfuzz\u001b[0m\u001b[1;33m.\u001b[0m\u001b[0mratio\u001b[0m\u001b[1;33m(\u001b[0m\u001b[0mi\u001b[0m\u001b[1;33m,\u001b[0m \u001b[0mj\u001b[0m\u001b[1;33m)\u001b[0m\u001b[1;33m\u001b[0m\u001b[1;33m\u001b[0m\u001b[0m\n\u001b[0m\u001b[0;32m      7\u001b[0m         \u001b[1;32mif\u001b[0m \u001b[0msimilarity_score\u001b[0m \u001b[1;33m>=\u001b[0m \u001b[1;36m80\u001b[0m\u001b[1;33m:\u001b[0m\u001b[1;33m\u001b[0m\u001b[1;33m\u001b[0m\u001b[0m\n\u001b[0;32m      8\u001b[0m             \u001b[0mprint\u001b[0m\u001b[1;33m(\u001b[0m\u001b[0mi\u001b[0m\u001b[1;33m,\u001b[0m\u001b[1;34m\"&\"\u001b[0m\u001b[1;33m,\u001b[0m \u001b[0mj\u001b[0m\u001b[1;33m,\u001b[0m \u001b[1;34m\"Are similar\"\u001b[0m\u001b[1;33m)\u001b[0m\u001b[1;33m\u001b[0m\u001b[1;33m\u001b[0m\u001b[0m\n",
      "\u001b[1;32m~\\AppData\\Roaming\\Python\\Python39\\site-packages\\fuzzywuzzy\\utils.py\u001b[0m in \u001b[0;36mdecorator\u001b[1;34m(*args, **kwargs)\u001b[0m\n\u001b[0;32m     36\u001b[0m         \u001b[1;32mif\u001b[0m \u001b[0margs\u001b[0m\u001b[1;33m[\u001b[0m\u001b[1;36m0\u001b[0m\u001b[1;33m]\u001b[0m \u001b[1;32mis\u001b[0m \u001b[1;32mNone\u001b[0m \u001b[1;32mor\u001b[0m \u001b[0margs\u001b[0m\u001b[1;33m[\u001b[0m\u001b[1;36m1\u001b[0m\u001b[1;33m]\u001b[0m \u001b[1;32mis\u001b[0m \u001b[1;32mNone\u001b[0m\u001b[1;33m:\u001b[0m\u001b[1;33m\u001b[0m\u001b[1;33m\u001b[0m\u001b[0m\n\u001b[0;32m     37\u001b[0m             \u001b[1;32mreturn\u001b[0m \u001b[1;36m0\u001b[0m\u001b[1;33m\u001b[0m\u001b[1;33m\u001b[0m\u001b[0m\n\u001b[1;32m---> 38\u001b[1;33m         \u001b[1;32mreturn\u001b[0m \u001b[0mfunc\u001b[0m\u001b[1;33m(\u001b[0m\u001b[1;33m*\u001b[0m\u001b[0margs\u001b[0m\u001b[1;33m,\u001b[0m \u001b[1;33m**\u001b[0m\u001b[0mkwargs\u001b[0m\u001b[1;33m)\u001b[0m\u001b[1;33m\u001b[0m\u001b[1;33m\u001b[0m\u001b[0m\n\u001b[0m\u001b[0;32m     39\u001b[0m     \u001b[1;32mreturn\u001b[0m \u001b[0mdecorator\u001b[0m\u001b[1;33m\u001b[0m\u001b[1;33m\u001b[0m\u001b[0m\n\u001b[0;32m     40\u001b[0m \u001b[1;33m\u001b[0m\u001b[0m\n",
      "\u001b[1;32m~\\AppData\\Roaming\\Python\\Python39\\site-packages\\fuzzywuzzy\\utils.py\u001b[0m in \u001b[0;36mdecorator\u001b[1;34m(*args, **kwargs)\u001b[0m\n\u001b[0;32m     27\u001b[0m         \u001b[1;32mif\u001b[0m \u001b[0margs\u001b[0m\u001b[1;33m[\u001b[0m\u001b[1;36m0\u001b[0m\u001b[1;33m]\u001b[0m \u001b[1;33m==\u001b[0m \u001b[0margs\u001b[0m\u001b[1;33m[\u001b[0m\u001b[1;36m1\u001b[0m\u001b[1;33m]\u001b[0m\u001b[1;33m:\u001b[0m\u001b[1;33m\u001b[0m\u001b[1;33m\u001b[0m\u001b[0m\n\u001b[0;32m     28\u001b[0m             \u001b[1;32mreturn\u001b[0m \u001b[1;36m100\u001b[0m\u001b[1;33m\u001b[0m\u001b[1;33m\u001b[0m\u001b[0m\n\u001b[1;32m---> 29\u001b[1;33m         \u001b[1;32mreturn\u001b[0m \u001b[0mfunc\u001b[0m\u001b[1;33m(\u001b[0m\u001b[1;33m*\u001b[0m\u001b[0margs\u001b[0m\u001b[1;33m,\u001b[0m \u001b[1;33m**\u001b[0m\u001b[0mkwargs\u001b[0m\u001b[1;33m)\u001b[0m\u001b[1;33m\u001b[0m\u001b[1;33m\u001b[0m\u001b[0m\n\u001b[0m\u001b[0;32m     30\u001b[0m     \u001b[1;32mreturn\u001b[0m \u001b[0mdecorator\u001b[0m\u001b[1;33m\u001b[0m\u001b[1;33m\u001b[0m\u001b[0m\n\u001b[0;32m     31\u001b[0m \u001b[1;33m\u001b[0m\u001b[0m\n",
      "\u001b[1;32m~\\AppData\\Roaming\\Python\\Python39\\site-packages\\fuzzywuzzy\\utils.py\u001b[0m in \u001b[0;36mdecorator\u001b[1;34m(*args, **kwargs)\u001b[0m\n\u001b[0;32m     45\u001b[0m         \u001b[1;32mif\u001b[0m \u001b[0mlen\u001b[0m\u001b[1;33m(\u001b[0m\u001b[0margs\u001b[0m\u001b[1;33m[\u001b[0m\u001b[1;36m0\u001b[0m\u001b[1;33m]\u001b[0m\u001b[1;33m)\u001b[0m \u001b[1;33m==\u001b[0m \u001b[1;36m0\u001b[0m \u001b[1;32mor\u001b[0m \u001b[0mlen\u001b[0m\u001b[1;33m(\u001b[0m\u001b[0margs\u001b[0m\u001b[1;33m[\u001b[0m\u001b[1;36m1\u001b[0m\u001b[1;33m]\u001b[0m\u001b[1;33m)\u001b[0m \u001b[1;33m==\u001b[0m \u001b[1;36m0\u001b[0m\u001b[1;33m:\u001b[0m\u001b[1;33m\u001b[0m\u001b[1;33m\u001b[0m\u001b[0m\n\u001b[0;32m     46\u001b[0m             \u001b[1;32mreturn\u001b[0m \u001b[1;36m0\u001b[0m\u001b[1;33m\u001b[0m\u001b[1;33m\u001b[0m\u001b[0m\n\u001b[1;32m---> 47\u001b[1;33m         \u001b[1;32mreturn\u001b[0m \u001b[0mfunc\u001b[0m\u001b[1;33m(\u001b[0m\u001b[1;33m*\u001b[0m\u001b[0margs\u001b[0m\u001b[1;33m,\u001b[0m \u001b[1;33m**\u001b[0m\u001b[0mkwargs\u001b[0m\u001b[1;33m)\u001b[0m\u001b[1;33m\u001b[0m\u001b[1;33m\u001b[0m\u001b[0m\n\u001b[0m\u001b[0;32m     48\u001b[0m     \u001b[1;32mreturn\u001b[0m \u001b[0mdecorator\u001b[0m\u001b[1;33m\u001b[0m\u001b[1;33m\u001b[0m\u001b[0m\n\u001b[0;32m     49\u001b[0m \u001b[1;33m\u001b[0m\u001b[0m\n",
      "\u001b[1;32m~\\AppData\\Roaming\\Python\\Python39\\site-packages\\fuzzywuzzy\\fuzz.py\u001b[0m in \u001b[0;36mratio\u001b[1;34m(s1, s2)\u001b[0m\n\u001b[0;32m     25\u001b[0m     \u001b[0ms1\u001b[0m\u001b[1;33m,\u001b[0m \u001b[0ms2\u001b[0m \u001b[1;33m=\u001b[0m \u001b[0mutils\u001b[0m\u001b[1;33m.\u001b[0m\u001b[0mmake_type_consistent\u001b[0m\u001b[1;33m(\u001b[0m\u001b[0ms1\u001b[0m\u001b[1;33m,\u001b[0m \u001b[0ms2\u001b[0m\u001b[1;33m)\u001b[0m\u001b[1;33m\u001b[0m\u001b[1;33m\u001b[0m\u001b[0m\n\u001b[0;32m     26\u001b[0m \u001b[1;33m\u001b[0m\u001b[0m\n\u001b[1;32m---> 27\u001b[1;33m     \u001b[0mm\u001b[0m \u001b[1;33m=\u001b[0m \u001b[0mSequenceMatcher\u001b[0m\u001b[1;33m(\u001b[0m\u001b[1;32mNone\u001b[0m\u001b[1;33m,\u001b[0m \u001b[0ms1\u001b[0m\u001b[1;33m,\u001b[0m \u001b[0ms2\u001b[0m\u001b[1;33m)\u001b[0m\u001b[1;33m\u001b[0m\u001b[1;33m\u001b[0m\u001b[0m\n\u001b[0m\u001b[0;32m     28\u001b[0m     \u001b[1;32mreturn\u001b[0m \u001b[0mutils\u001b[0m\u001b[1;33m.\u001b[0m\u001b[0mintr\u001b[0m\u001b[1;33m(\u001b[0m\u001b[1;36m100\u001b[0m \u001b[1;33m*\u001b[0m \u001b[0mm\u001b[0m\u001b[1;33m.\u001b[0m\u001b[0mratio\u001b[0m\u001b[1;33m(\u001b[0m\u001b[1;33m)\u001b[0m\u001b[1;33m)\u001b[0m\u001b[1;33m\u001b[0m\u001b[1;33m\u001b[0m\u001b[0m\n\u001b[0;32m     29\u001b[0m \u001b[1;33m\u001b[0m\u001b[0m\n",
      "\u001b[1;32mC:\\Anaconda_program_files\\lib\\difflib.py\u001b[0m in \u001b[0;36m__init__\u001b[1;34m(self, isjunk, a, b, autojunk)\u001b[0m\n\u001b[0;32m    180\u001b[0m         \u001b[0mself\u001b[0m\u001b[1;33m.\u001b[0m\u001b[0ma\u001b[0m \u001b[1;33m=\u001b[0m \u001b[0mself\u001b[0m\u001b[1;33m.\u001b[0m\u001b[0mb\u001b[0m \u001b[1;33m=\u001b[0m \u001b[1;32mNone\u001b[0m\u001b[1;33m\u001b[0m\u001b[1;33m\u001b[0m\u001b[0m\n\u001b[0;32m    181\u001b[0m         \u001b[0mself\u001b[0m\u001b[1;33m.\u001b[0m\u001b[0mautojunk\u001b[0m \u001b[1;33m=\u001b[0m \u001b[0mautojunk\u001b[0m\u001b[1;33m\u001b[0m\u001b[1;33m\u001b[0m\u001b[0m\n\u001b[1;32m--> 182\u001b[1;33m         \u001b[0mself\u001b[0m\u001b[1;33m.\u001b[0m\u001b[0mset_seqs\u001b[0m\u001b[1;33m(\u001b[0m\u001b[0ma\u001b[0m\u001b[1;33m,\u001b[0m \u001b[0mb\u001b[0m\u001b[1;33m)\u001b[0m\u001b[1;33m\u001b[0m\u001b[1;33m\u001b[0m\u001b[0m\n\u001b[0m\u001b[0;32m    183\u001b[0m \u001b[1;33m\u001b[0m\u001b[0m\n\u001b[0;32m    184\u001b[0m     \u001b[1;32mdef\u001b[0m \u001b[0mset_seqs\u001b[0m\u001b[1;33m(\u001b[0m\u001b[0mself\u001b[0m\u001b[1;33m,\u001b[0m \u001b[0ma\u001b[0m\u001b[1;33m,\u001b[0m \u001b[0mb\u001b[0m\u001b[1;33m)\u001b[0m\u001b[1;33m:\u001b[0m\u001b[1;33m\u001b[0m\u001b[1;33m\u001b[0m\u001b[0m\n",
      "\u001b[1;32mC:\\Anaconda_program_files\\lib\\difflib.py\u001b[0m in \u001b[0;36mset_seqs\u001b[1;34m(self, a, b)\u001b[0m\n\u001b[0;32m    192\u001b[0m \u001b[1;33m\u001b[0m\u001b[0m\n\u001b[0;32m    193\u001b[0m         \u001b[0mself\u001b[0m\u001b[1;33m.\u001b[0m\u001b[0mset_seq1\u001b[0m\u001b[1;33m(\u001b[0m\u001b[0ma\u001b[0m\u001b[1;33m)\u001b[0m\u001b[1;33m\u001b[0m\u001b[1;33m\u001b[0m\u001b[0m\n\u001b[1;32m--> 194\u001b[1;33m         \u001b[0mself\u001b[0m\u001b[1;33m.\u001b[0m\u001b[0mset_seq2\u001b[0m\u001b[1;33m(\u001b[0m\u001b[0mb\u001b[0m\u001b[1;33m)\u001b[0m\u001b[1;33m\u001b[0m\u001b[1;33m\u001b[0m\u001b[0m\n\u001b[0m\u001b[0;32m    195\u001b[0m \u001b[1;33m\u001b[0m\u001b[0m\n\u001b[0;32m    196\u001b[0m     \u001b[1;32mdef\u001b[0m \u001b[0mset_seq1\u001b[0m\u001b[1;33m(\u001b[0m\u001b[0mself\u001b[0m\u001b[1;33m,\u001b[0m \u001b[0ma\u001b[0m\u001b[1;33m)\u001b[0m\u001b[1;33m:\u001b[0m\u001b[1;33m\u001b[0m\u001b[1;33m\u001b[0m\u001b[0m\n",
      "\u001b[1;32mC:\\Anaconda_program_files\\lib\\difflib.py\u001b[0m in \u001b[0;36mset_seq2\u001b[1;34m(self, b)\u001b[0m\n\u001b[0;32m    246\u001b[0m         \u001b[0mself\u001b[0m\u001b[1;33m.\u001b[0m\u001b[0mmatching_blocks\u001b[0m \u001b[1;33m=\u001b[0m \u001b[0mself\u001b[0m\u001b[1;33m.\u001b[0m\u001b[0mopcodes\u001b[0m \u001b[1;33m=\u001b[0m \u001b[1;32mNone\u001b[0m\u001b[1;33m\u001b[0m\u001b[1;33m\u001b[0m\u001b[0m\n\u001b[0;32m    247\u001b[0m         \u001b[0mself\u001b[0m\u001b[1;33m.\u001b[0m\u001b[0mfullbcount\u001b[0m \u001b[1;33m=\u001b[0m \u001b[1;32mNone\u001b[0m\u001b[1;33m\u001b[0m\u001b[1;33m\u001b[0m\u001b[0m\n\u001b[1;32m--> 248\u001b[1;33m         \u001b[0mself\u001b[0m\u001b[1;33m.\u001b[0m\u001b[0m__chain_b\u001b[0m\u001b[1;33m(\u001b[0m\u001b[1;33m)\u001b[0m\u001b[1;33m\u001b[0m\u001b[1;33m\u001b[0m\u001b[0m\n\u001b[0m\u001b[0;32m    249\u001b[0m \u001b[1;33m\u001b[0m\u001b[0m\n\u001b[0;32m    250\u001b[0m     \u001b[1;31m# For each element x in b, set b2j[x] to a list of the indices in\u001b[0m\u001b[1;33m\u001b[0m\u001b[1;33m\u001b[0m\u001b[0m\n",
      "\u001b[1;32mC:\\Anaconda_program_files\\lib\\difflib.py\u001b[0m in \u001b[0;36m__chain_b\u001b[1;34m(self)\u001b[0m\n\u001b[0;32m    279\u001b[0m \u001b[1;33m\u001b[0m\u001b[0m\n\u001b[0;32m    280\u001b[0m         \u001b[1;32mfor\u001b[0m \u001b[0mi\u001b[0m\u001b[1;33m,\u001b[0m \u001b[0melt\u001b[0m \u001b[1;32min\u001b[0m \u001b[0menumerate\u001b[0m\u001b[1;33m(\u001b[0m\u001b[0mb\u001b[0m\u001b[1;33m)\u001b[0m\u001b[1;33m:\u001b[0m\u001b[1;33m\u001b[0m\u001b[1;33m\u001b[0m\u001b[0m\n\u001b[1;32m--> 281\u001b[1;33m             \u001b[0mindices\u001b[0m \u001b[1;33m=\u001b[0m \u001b[0mb2j\u001b[0m\u001b[1;33m.\u001b[0m\u001b[0msetdefault\u001b[0m\u001b[1;33m(\u001b[0m\u001b[0melt\u001b[0m\u001b[1;33m,\u001b[0m \u001b[1;33m[\u001b[0m\u001b[1;33m]\u001b[0m\u001b[1;33m)\u001b[0m\u001b[1;33m\u001b[0m\u001b[1;33m\u001b[0m\u001b[0m\n\u001b[0m\u001b[0;32m    282\u001b[0m             \u001b[0mindices\u001b[0m\u001b[1;33m.\u001b[0m\u001b[0mappend\u001b[0m\u001b[1;33m(\u001b[0m\u001b[0mi\u001b[0m\u001b[1;33m)\u001b[0m\u001b[1;33m\u001b[0m\u001b[1;33m\u001b[0m\u001b[0m\n\u001b[0;32m    283\u001b[0m \u001b[1;33m\u001b[0m\u001b[0m\n",
      "\u001b[1;31mKeyboardInterrupt\u001b[0m: "
     ]
    }
   ],
   "source": [
    "list1 = item_list\n",
    "list2 = descs_list\n",
    "\n",
    "for i in list1:\n",
    "    for j in list2:\n",
    "        similarity_score = fuzz.ratio(i, j)\n",
    "        if similarity_score >= 80:\n",
    "            print(i,\"&\", j, \"Are similar\")\n",
    "            \n",
    "            \n",
    "        "
   ]
  },
  {
   "cell_type": "code",
   "execution_count": 45,
   "id": "d4612f84",
   "metadata": {},
   "outputs": [
    {
     "name": "stdout",
     "output_type": "stream",
     "text": [
      "(XMET-TRIO) 500/0.3/2 - STRIP OF 10 TABLETS & XMET TRIO 500/0.3/2 SR 10^S  Are 70% similar\n",
      "A BEC TABLET & UBIREX TABLET  Are 70% similar\n",
      "AB PHYLLINE SR 200 - STRIP OF 10 TABLETS & AB PHYLLINE SR 200 10^S  Are 70% similar\n",
      "ABDOWELL - SACHET OF 1 GM SACHET & ABDOWELL SACHET 1GM  Are 70% similar\n",
      "ABIRAPRO 250 MG TABLET 120'S & CAROL 20MG TAB 120S  Are 70% similar\n",
      "ABIRAPRO 250 MG TABLET 120'S & CAROL 5MG TAB 120S  Are 70% similar\n",
      "ABIRAPRO 250 MG TABLET 120'S & OBORAVO 25MG TAB 10S  Are 70% similar\n",
      "ABIRAPRO 250 MG TABLET 120'S & RABESEC 20MG TABLET 10S  Are 70% similar\n",
      "ABIRAPRO 250 MG TABLET 120'S & VETIRA 250MG TAB 10S  Are 70% similar\n",
      "ABIRAPRO 250 MG TABLET 120'S & AXIFUR 250MG TAB 10S  Are 70% similar\n",
      "ACCU CHEK SOFTCLIX LANCET, PACK OF 25 (MULTICOLOR) & ACCUCHEK SOFTCLIX LANCET 25 PC  Are 70% similar\n",
      "ACCU-CHEK ACTIVE - PACK OF 2X50 TEST STRIPS & ACCUCHEK ACTIVE 10 TEST STRP 10^S  Are 70% similar\n",
      "ACCU-CHEK ACTIVE - PACK OF 2X50 TEST STRIPS & ACCUCHEK ACTIVE 2*50 TEST STRP 2*50  Are 70% similar\n",
      "ACCU-CHEK ACTIVE - PACK OF 2X50 TEST STRIPS & ACCUCHEK ACTIVE 25 TEST STRP 25^S  Are 70% similar\n",
      "ACCU-CHEK ACTIVE - PACK OF 2X50 TEST STRIPS & ACCUCHEK ACTIVE 50 TEST STRP 50^S  Are 70% similar\n",
      "ACCU-CHEK ACTIVE - PACK OF 50 STRIPS & ACCUCHEK ACTIVE 50 TEST STRP 50^S  Are 70% similar\n",
      "ACCU-CHEK ACTIVE 50 TEST STRIPS (PACK OF 2) & ACCUCHEK ACTIVE 10 TEST STRP 10^S  Are 70% similar\n",
      "ACCU-CHEK ACTIVE 50 TEST STRIPS (PACK OF 2) & ACCUCHEK ACTIVE 2*50 TEST STRP 2*50  Are 70% similar\n",
      "ACCU-CHEK ACTIVE 50 TEST STRIPS (PACK OF 2) & ACCUCHEK ACTIVE 25 TEST STRP 25^S  Are 70% similar\n",
      "ACCU-CHEK ACTIVE 50 TEST STRIPS (PACK OF 2) & ACCUCHEK ACTIVE 50 TEST STRP 50^S  Are 70% similar\n",
      "ACCU-CHEK ACTIVE 50 TEST STRIPS + 2 PACKS OF LANCET 25 & ACCUCHEK ACTIVE 2*50 TEST STRP 2*50  Are 70% similar\n",
      "ACCU-CHEK AVIVA 50 TEST STRIPS (WHITE) & ACCUCHEK ACTIVE 10 TEST STRP 10^S  Are 70% similar\n",
      "ACCU-CHEK AVIVA 50 TEST STRIPS (WHITE) & ACCUCHEK ACTIVE 2*50 TEST STRP 2*50  Are 70% similar\n",
      "ACCU-CHEK AVIVA 50 TEST STRIPS (WHITE) & ACCUCHEK ACTIVE 25 TEST STRP 25^S  Are 70% similar\n",
      "ACCU-CHEK AVIVA 50 TEST STRIPS (WHITE) & ACCUCHEK ACTIVE 50 TEST STRP 50^S  Are 70% similar\n",
      "ACCU-CHEK INSTANT - PACK OF 50 TEST STRIPS & ACCUCHEK INSTANT 100CT STRIPS  Are 70% similar\n",
      "ACCU-CHEK INSTANT - PACK OF 50 TEST STRIPS & ACCUCHEK INSTANT 10 TEST STRP 10^S  Are 70% similar\n",
      "ACCU-CHEK INSTANT - PACK OF 50 TEST STRIPS & ACCUCHEK INSTANT 50CT STRIP 50^S  Are 70% similar\n",
      "ACCU-CHEK SOFTCLIX LANCET, PACK OF 200 (MULTICOLOR) & ACCUCHEK SOFTCLIX LANCET 200 PC  Are 70% similar\n",
      "ACCUSURE SIMPAL TEST STRIPS, 25 STRIPS & ACCUSURE SIMPLE STRIPS 100S  Are 70% similar\n",
      "ACCUSURE TEST STRIPS, 100 STRIPS & ACCUSURE SIMPLE STRIPS 100S  Are 70% similar\n",
      "ACE REVELOL 25/2.5 - STRIP OF 10 TABLETS & ACE REVELOL 25/2.5 TABS 10^S  Are 70% similar\n",
      "ACEGABA 300MG CAPSULE 10'S & ACEGABA 100 CAP 10^S  Are 70% similar\n",
      "ACEGABA 300MG CAPSULE 10'S & BAYACE 100MG CAPS 10^S  Are 70% similar\n",
      "ACEGABA 300MG CAPSULE 10'S & LAN 30 CAPSULE 10^S  Are 70% similar\n",
      "ACINIL-O SYRUP 200ML & NILTUSS-DC SYRUP 200ML  Are 70% similar\n",
      "ACINIL-O SYRUP 200ML & LACOTIDE SYRUP 200ML  Are 70% similar\n",
      "ACINIL-O SYRUP 200ML & PRACTIN EN SYRUP 200ML  Are 70% similar\n",
      "ACINIL-O SYRUP 200ML & AC SYRUP 30ML  Are 70% similar\n",
      "ACINIL-O SYRUP 200ML & ACILOC ONLY SYRUP 100ML  Are 70% similar\n",
      "ACINIL-O SYRUP 200ML & ACILOC S SUSP 200ML  Are 70% similar\n",
      "ACINIL-O SYRUP 200ML & AMCO-Z SYP 200 ML  Are 70% similar\n",
      "ACINIL-O SYRUP 200ML & AMYCORDIAL SYP 200ML  Are 70% similar\n",
      "ACINIL-O SYRUP 200ML & ANOFLOX SYRUP 60ML  Are 70% similar\n",
      "ACINIL-O SYRUP 200ML & APIMORE SYRUP 200ML  Are 70% similar\n",
      "ACINIL-O SYRUP 200ML & APITIZE SYP 200ML  Are 70% similar\n",
      "ACINIL-O SYRUP 200ML & APTIMUM SYRUP 200ML  Are 70% similar\n",
      "ACINIL-O SYRUP 200ML & AQUAWIN SYP 200ML  Are 70% similar\n",
      "ACINIL-O SYRUP 200ML & ASCAZIN SYRUP 70ML  Are 70% similar\n",
      "ACINIL-O SYRUP 200ML & ASCORIL LS SYRUP 100ML  Are 70% similar\n",
      "ACINIL-O SYRUP 200ML & ASCOVENT SYRUP 100ML  Are 70% similar\n",
      "ACINIL-O SYRUP 200ML & ASTHALIN SYRUP 100ML  Are 70% similar\n",
      "ACINIL-O SYRUP 200ML & ASTYMIN SN SYRUP 200ML  Are 70% similar\n",
      "ACINIL-O SYRUP 200ML & ATHCAL SUSP 200ML  Are 70% similar\n",
      "ACINIL-O SYRUP 200ML & AVIPRO SYP 200ML.  Are 70% similar\n",
      "ACINIL-O SYRUP 200ML & AXLAX SYRUP 100ML  Are 70% similar\n",
      "ACINIL-O SYRUP 200ML & AXN SYP 200ML  Are 70% similar\n",
      "ACINIL-O SYRUP 200ML & BACIGYL SYRUP 30ML  Are 70% similar\n",
      "ACINIL-O SYRUP 200ML & BACIGYL SYRUP 60ML  Are 70% similar\n",
      "ACINIL-O SYRUP 200ML & BECOZINC H SYRUP 200ML  Are 70% similar\n",
      "ACINIL-O SYRUP 200ML & BONHEAL SYRUP 200ML  Are 70% similar\n",
      "ACINIL-O SYRUP 200ML & BOSS SYRUP 200ML  Are 70% similar\n",
      "ACINIL-O SYRUP 200ML & CADIFAST SYRUP 200ML  Are 70% similar\n",
      "ACINIL-O SYRUP 200ML & CALCI D3 SYRUP 200ML  Are 70% similar\n",
      "ACINIL-O SYRUP 200ML & CALCICAD M SYRUP 200ML.  Are 70% similar\n",
      "ACINIL-O SYRUP 200ML & CALCINOL D SUSP 200ML  Are 70% similar\n",
      "ACINIL-O SYRUP 200ML & CALCIRIGHT SYP 200ML  Are 70% similar\n",
      "ACINIL-O SYRUP 200ML & CHEER SYRUP 200ML  Are 70% similar\n",
      "ACINIL-O SYRUP 200ML & CHERI SYRUP 200ML  Are 70% similar\n",
      "ACINIL-O SYRUP 200ML & CIPLACTIN PLUS SYRUP 200ML  Are 70% similar\n",
      "ACINIL-O SYRUP 200ML & CIPLACTIN SYRUP 200ML  Are 70% similar\n",
      "ACINIL-O SYRUP 200ML & CISTIN SYRUP 60ML  Are 70% similar\n",
      "ACINIL-O SYRUP 200ML & CITIKOF-DX SYRUP 100ML  Are 70% similar\n",
      "ACINIL-O SYRUP 200ML & CLEARLIV SYRUP 200ML  Are 70% similar\n",
      "ACINIL-O SYRUP 200ML & CLIK SYRUP 200ML  Are 70% similar\n",
      "ACINIL-O SYRUP 200ML & COFFINGO CD SYRUP 100ML  Are 70% similar\n",
      "ACINIL-O SYRUP 200ML & COGNIUM SYRUP 200ML  Are 70% similar\n",
      "ACINIL-O SYRUP 200ML & COSCOPIN LS SYRUP 100ML  Are 70% similar\n",
      "ACINIL-O SYRUP 200ML & CYCLOSET SYRUP 300ML  Are 70% similar\n",
      "ACINIL-O SYRUP 200ML & CYPON SYRUPS 200ML  Are 70% similar\n",
      "ACINIL-O SYRUP 200ML & CYSTONE SYRUP 200ML  Are 70% similar\n",
      "ACINIL-O SYRUP 200ML & DIGEPLEX SYRUP 200ML  Are 70% similar\n",
      "ACINIL-O SYRUP 200ML & DIGIPEN SYRUP 200ML  Are 70% similar\n",
      "ACINIL-O SYRUP 200ML & DILO BM SYRUP 100ML  Are 70% similar\n",
      "ACINIL-O SYRUP 200ML & DILO DX SYRUP 100ML  Are 70% similar\n",
      "ACINIL-O SYRUP 200ML & DILO LS SYRUP 100ML  Are 70% similar\n",
      "ACINIL-O SYRUP 200ML & DYCAL SYRUP 200ML  Are 70% similar\n",
      "ACINIL-O SYRUP 200ML & EASCOF D SYRUP 100ML  Are 70% similar\n",
      "ACINIL-O SYRUP 200ML & ECORED SYRUP 200ML  Are 70% similar\n",
      "ACINIL-O SYRUP 200ML & EMCORIL SYRUP 100ML  Are 70% similar\n",
      "ACINIL-O SYRUP 200ML & EVAKIND SYP 200ML  Are 70% similar\n",
      "ACINIL-O SYRUP 200ML & EVAQ SYRUP 200ML  Are 70% similar\n",
      "ACINIL-O SYRUP 200ML & HEMACT SYRUP 200ML  Are 70% similar\n",
      "ACINIL-O SYRUP 200ML & HYSIN SYRUP 200ML  Are 70% similar\n",
      "ACINIL-O SYRUP 200ML & IMFERON SYRUP 200ML  Are 70% similar\n",
      "ACINIL-O SYRUP 200ML & JUTIN Z SYRUP 200ML  Are 70% similar\n",
      "ACINIL-O SYRUP 200ML & LACRELAX SYRUP 200ML  Are 70% similar\n",
      "ACINIL-O SYRUP 200ML & LACTIZIP SYP 200ML  Are 70% similar\n",
      "ACINIL-O SYRUP 200ML & LANCOF SYRUP 100ML  Are 70% similar\n",
      "ACINIL-O SYRUP 200ML & LAXILOSE SYP 200ML  Are 70% similar\n",
      "ACINIL-O SYRUP 200ML & LAXITOL SYP 200ML  Are 70% similar\n",
      "ACINIL-O SYRUP 200ML & LAXIWAL SYRUP 100ML  Are 70% similar\n",
      "ACINIL-O SYRUP 200ML & LAXIWAL SYRUP 200ML  Are 70% similar\n",
      "ACINIL-O SYRUP 200ML & LAXOLITE SYRUP 200ML  Are 70% similar\n",
      "ACINIL-O SYRUP 200ML & LIVFIT SYRUP 200ML  Are 70% similar\n",
      "ACINIL-O SYRUP 200ML & LIVMOST SYRUP 200ML  Are 70% similar\n",
      "ACINIL-O SYRUP 200ML & LYCO-ZE SYRUP 200ML  Are 70% similar\n",
      "ACINIL-O SYRUP 200ML & MAC OS SUSP 200ML  Are 70% similar\n",
      "ACINIL-O SYRUP 200ML & MACBATE  SYRUP 200ML  Are 70% similar\n",
      "ACINIL-O SYRUP 200ML & MECOLIN SYP 200ML  Are 70% similar\n",
      "ACINIL-O SYRUP 200ML & NIRAID SYRUP 200ML  Are 70% similar\n",
      "ACINIL-O SYRUP 200ML & NUTASHINE SYRUP 200ML  Are 70% similar\n",
      "ACINIL-O SYRUP 200ML & PAN MPS SYRUP 200ML  Are 70% similar\n",
      "ACINIL-O SYRUP 200ML & PEDIC SYRUP 200ML  Are 70% similar\n",
      "ACINIL-O SYRUP 200ML & PICONINE SYRUP 100ML  Are 70% similar\n",
      "ACINIL-O SYRUP 200ML & PLANOKUF SYRUP 100ML  Are 70% similar\n",
      "ACINIL-O SYRUP 200ML & PRACTIN EN SYRUPS 200ML  Are 70% similar\n",
      "ACINIL-O SYRUP 200ML & PRACTIN SYP # 200ML  Are 70% similar\n",
      "ACINIL-O SYRUP 200ML & PRACTIN SYRUP 200ML  Are 70% similar\n",
      "ACINIL-O SYRUP 200ML & RANIDOM O SUSP 200ML  Are 70% similar\n",
      "ACINIL-O SYRUP 200ML & RANISOL SYP 100ML  Are 70% similar\n",
      "ACINIL-O SYRUP 200ML & RAYCORD SYP 200ML  Are 70% similar\n",
      "ACINIL-O SYRUP 200ML & RCIN SYP 200ML  Are 70% similar\n",
      "ACINIL-O SYRUP 200ML & REVICOL SYRUP 200ML  Are 70% similar\n",
      "ACINIL-O SYRUP 200ML & RICONIA SYP 200ML  Are 70% similar\n",
      "ACINIL-O SYRUP 200ML & RINIL SYRUP 60ML  Are 70% similar\n",
      "ACINIL-O SYRUP 200ML & RISNIA SYRUP 60ML  Are 70% similar\n",
      "ACINIL-O SYRUP 200ML & RITEVIT SYRUP 200ML  Are 70% similar\n",
      "ACINIL-O SYRUP 200ML & SILYBON SYP 200ML  Are 70% similar\n",
      "ACINIL-O SYRUP 200ML & STANCOOL SYRUP 100ML  Are 70% similar\n",
      "ACINIL-O SYRUP 200ML & STIMULIV SYRUP 200ML  Are 70% similar\n",
      "ACINIL-O SYRUP 200ML & STON-1 SYRUP 200ML  Are 70% similar\n",
      "ACINIL-O SYRUP 200ML & STONIL SYRUP 200ML  Are 70% similar\n"
     ]
    },
    {
     "name": "stdout",
     "output_type": "stream",
     "text": [
      "ACINIL-O SYRUP 200ML & TRINERGIC L SYRUP 200ML  Are 70% similar\n",
      "ACINIL-O SYRUP 200ML & TRIPHALA SYRUP 200ML  Are 70% similar\n",
      "ACINIL-O SYRUP 200ML & TRISOLIV SYRUP 200ML  Are 70% similar\n",
      "ACINIL-O SYRUP 200ML & USAL SYRUP 100ML  Are 70% similar\n",
      "ACINIL-O SYRUP 200ML & VALPROL SYRUP 200ML  Are 70% similar\n",
      "ACINIL-O SYRUP 200ML & VITAX SYRUP 200ML  Are 70% similar\n",
      "ACINIL-O SYRUP 200ML & VITAXO SYRUP 200ML  Are 70% similar\n",
      "ACINIL-O SYRUP 200ML & V-TOTAL SYRUP 200ML  Are 70% similar\n",
      "ACINIL-O SYRUP 200ML & ZINCOVIT SYRUP 200ML  Are 70% similar\n",
      "ACINIL-O SYRUP 200ML & ZINCRIS SYRUP 100ML  Are 70% similar\n",
      "ACINIL-O SYRUP 200ML & ZIVINIX SYRUP 200ML  Are 70% similar\n",
      "ACINIL-O SYRUP 200ML & HEPANEED SYRUP 200ML  Are 70% similar\n",
      "ACINIL-O SYRUP 200ML & CELIN KID SYP 200ML  Are 70% similar\n",
      "ACINIL-O SYRUP 200ML & COS3 SYRUP 200ML  Are 70% similar\n",
      "ACINIL-O SYRUP 200ML & ANTOXYL SYP 200ML  Are 70% similar\n",
      "ACINIL-O SYRUP 200ML & IGNICAR SYP 200ML  Are 70% similar\n",
      "ACINIL-O SYRUP 200ML & APTIDOR SYP 200ML  Are 70% similar\n",
      "ACINIL-O SYRUP 200ML & CYPON SYRUP 200ML.  Are 70% similar\n",
      "ACINIL-O SYRUP 200ML & RABEMAC OS SYRUP 200ML  Are 70% similar\n",
      "ACINIL-O SYRUP 200ML & APFIL SYP 200ML  Are 70% similar\n",
      "ACINIL-O SYRUP 200ML & IMMUNIT SYP 200ML  Are 70% similar\n",
      "ACINIL-O SYRUP 200ML & ALTONIL SYP 100ML  Are 70% similar\n",
      "ACINIL-O SYRUP 200ML & RACIRAFT SYRUP 200ML  Are 70% similar\n",
      "ACINIL-O SYRUP 200ML & LACOTAB SYRUP 200ML  Are 70% similar\n",
      "ACINIL-O SYRUP 200ML & AMYCORDIAL FORTE SYRUP 200ML  Are 70% similar\n",
      "ACINIL-O SYRUP 200ML & COGVIN SYRUP 200ML  Are 70% similar\n",
      "ACINIL-O SYRUP 200ML & VALPROL SYRUP 100ML  Are 70% similar\n",
      "ACINIL-O SYRUP 200ML & VITCOBIN SYRUP 200ML  Are 70% similar\n",
      "ACINIL-O SYRUP 200ML & NEEM SYRUP 200ML  Are 70% similar\n",
      "ACINIL-O SYRUP 200ML & ZAC D SYRUP 200ML  Are 70% similar\n",
      "ACINIL-O SYRUP 200ML & CYSTONE SYRUP 200ML.  Are 70% similar\n"
     ]
    },
    {
     "ename": "KeyboardInterrupt",
     "evalue": "",
     "output_type": "error",
     "traceback": [
      "\u001b[1;31m---------------------------------------------------------------------------\u001b[0m",
      "\u001b[1;31mKeyboardInterrupt\u001b[0m                         Traceback (most recent call last)",
      "\u001b[1;32m~\\AppData\\Local\\Temp\\ipykernel_19224\\463410837.py\u001b[0m in \u001b[0;36m<module>\u001b[1;34m\u001b[0m\n\u001b[0;32m      4\u001b[0m \u001b[1;32mfor\u001b[0m \u001b[0mi\u001b[0m \u001b[1;32min\u001b[0m \u001b[0mlist1\u001b[0m\u001b[1;33m:\u001b[0m\u001b[1;33m\u001b[0m\u001b[1;33m\u001b[0m\u001b[0m\n\u001b[0;32m      5\u001b[0m     \u001b[1;32mfor\u001b[0m \u001b[0mj\u001b[0m \u001b[1;32min\u001b[0m \u001b[0mlist2\u001b[0m\u001b[1;33m:\u001b[0m\u001b[1;33m\u001b[0m\u001b[1;33m\u001b[0m\u001b[0m\n\u001b[1;32m----> 6\u001b[1;33m         \u001b[0msimilarity_score\u001b[0m \u001b[1;33m=\u001b[0m \u001b[0mfuzz\u001b[0m\u001b[1;33m.\u001b[0m\u001b[0mratio\u001b[0m\u001b[1;33m(\u001b[0m\u001b[0mi\u001b[0m\u001b[1;33m,\u001b[0m \u001b[0mj\u001b[0m\u001b[1;33m)\u001b[0m\u001b[1;33m\u001b[0m\u001b[1;33m\u001b[0m\u001b[0m\n\u001b[0m\u001b[0;32m      7\u001b[0m         \u001b[1;32mif\u001b[0m \u001b[0msimilarity_score\u001b[0m \u001b[1;33m>=\u001b[0m \u001b[1;36m70\u001b[0m\u001b[1;33m:\u001b[0m\u001b[1;33m\u001b[0m\u001b[1;33m\u001b[0m\u001b[0m\n\u001b[0;32m      8\u001b[0m             \u001b[0mprint\u001b[0m\u001b[1;33m(\u001b[0m\u001b[0mi\u001b[0m\u001b[1;33m,\u001b[0m\u001b[1;34m\"&\"\u001b[0m\u001b[1;33m,\u001b[0m \u001b[0mj\u001b[0m\u001b[1;33m,\u001b[0m \u001b[1;34m\" Are 70% similar\"\u001b[0m\u001b[1;33m)\u001b[0m\u001b[1;33m\u001b[0m\u001b[1;33m\u001b[0m\u001b[0m\n",
      "\u001b[1;32m~\\AppData\\Roaming\\Python\\Python39\\site-packages\\fuzzywuzzy\\utils.py\u001b[0m in \u001b[0;36mdecorator\u001b[1;34m(*args, **kwargs)\u001b[0m\n\u001b[0;32m     36\u001b[0m         \u001b[1;32mif\u001b[0m \u001b[0margs\u001b[0m\u001b[1;33m[\u001b[0m\u001b[1;36m0\u001b[0m\u001b[1;33m]\u001b[0m \u001b[1;32mis\u001b[0m \u001b[1;32mNone\u001b[0m \u001b[1;32mor\u001b[0m \u001b[0margs\u001b[0m\u001b[1;33m[\u001b[0m\u001b[1;36m1\u001b[0m\u001b[1;33m]\u001b[0m \u001b[1;32mis\u001b[0m \u001b[1;32mNone\u001b[0m\u001b[1;33m:\u001b[0m\u001b[1;33m\u001b[0m\u001b[1;33m\u001b[0m\u001b[0m\n\u001b[0;32m     37\u001b[0m             \u001b[1;32mreturn\u001b[0m \u001b[1;36m0\u001b[0m\u001b[1;33m\u001b[0m\u001b[1;33m\u001b[0m\u001b[0m\n\u001b[1;32m---> 38\u001b[1;33m         \u001b[1;32mreturn\u001b[0m \u001b[0mfunc\u001b[0m\u001b[1;33m(\u001b[0m\u001b[1;33m*\u001b[0m\u001b[0margs\u001b[0m\u001b[1;33m,\u001b[0m \u001b[1;33m**\u001b[0m\u001b[0mkwargs\u001b[0m\u001b[1;33m)\u001b[0m\u001b[1;33m\u001b[0m\u001b[1;33m\u001b[0m\u001b[0m\n\u001b[0m\u001b[0;32m     39\u001b[0m     \u001b[1;32mreturn\u001b[0m \u001b[0mdecorator\u001b[0m\u001b[1;33m\u001b[0m\u001b[1;33m\u001b[0m\u001b[0m\n\u001b[0;32m     40\u001b[0m \u001b[1;33m\u001b[0m\u001b[0m\n",
      "\u001b[1;32m~\\AppData\\Roaming\\Python\\Python39\\site-packages\\fuzzywuzzy\\utils.py\u001b[0m in \u001b[0;36mdecorator\u001b[1;34m(*args, **kwargs)\u001b[0m\n\u001b[0;32m     27\u001b[0m         \u001b[1;32mif\u001b[0m \u001b[0margs\u001b[0m\u001b[1;33m[\u001b[0m\u001b[1;36m0\u001b[0m\u001b[1;33m]\u001b[0m \u001b[1;33m==\u001b[0m \u001b[0margs\u001b[0m\u001b[1;33m[\u001b[0m\u001b[1;36m1\u001b[0m\u001b[1;33m]\u001b[0m\u001b[1;33m:\u001b[0m\u001b[1;33m\u001b[0m\u001b[1;33m\u001b[0m\u001b[0m\n\u001b[0;32m     28\u001b[0m             \u001b[1;32mreturn\u001b[0m \u001b[1;36m100\u001b[0m\u001b[1;33m\u001b[0m\u001b[1;33m\u001b[0m\u001b[0m\n\u001b[1;32m---> 29\u001b[1;33m         \u001b[1;32mreturn\u001b[0m \u001b[0mfunc\u001b[0m\u001b[1;33m(\u001b[0m\u001b[1;33m*\u001b[0m\u001b[0margs\u001b[0m\u001b[1;33m,\u001b[0m \u001b[1;33m**\u001b[0m\u001b[0mkwargs\u001b[0m\u001b[1;33m)\u001b[0m\u001b[1;33m\u001b[0m\u001b[1;33m\u001b[0m\u001b[0m\n\u001b[0m\u001b[0;32m     30\u001b[0m     \u001b[1;32mreturn\u001b[0m \u001b[0mdecorator\u001b[0m\u001b[1;33m\u001b[0m\u001b[1;33m\u001b[0m\u001b[0m\n\u001b[0;32m     31\u001b[0m \u001b[1;33m\u001b[0m\u001b[0m\n",
      "\u001b[1;32m~\\AppData\\Roaming\\Python\\Python39\\site-packages\\fuzzywuzzy\\utils.py\u001b[0m in \u001b[0;36mdecorator\u001b[1;34m(*args, **kwargs)\u001b[0m\n\u001b[0;32m     45\u001b[0m         \u001b[1;32mif\u001b[0m \u001b[0mlen\u001b[0m\u001b[1;33m(\u001b[0m\u001b[0margs\u001b[0m\u001b[1;33m[\u001b[0m\u001b[1;36m0\u001b[0m\u001b[1;33m]\u001b[0m\u001b[1;33m)\u001b[0m \u001b[1;33m==\u001b[0m \u001b[1;36m0\u001b[0m \u001b[1;32mor\u001b[0m \u001b[0mlen\u001b[0m\u001b[1;33m(\u001b[0m\u001b[0margs\u001b[0m\u001b[1;33m[\u001b[0m\u001b[1;36m1\u001b[0m\u001b[1;33m]\u001b[0m\u001b[1;33m)\u001b[0m \u001b[1;33m==\u001b[0m \u001b[1;36m0\u001b[0m\u001b[1;33m:\u001b[0m\u001b[1;33m\u001b[0m\u001b[1;33m\u001b[0m\u001b[0m\n\u001b[0;32m     46\u001b[0m             \u001b[1;32mreturn\u001b[0m \u001b[1;36m0\u001b[0m\u001b[1;33m\u001b[0m\u001b[1;33m\u001b[0m\u001b[0m\n\u001b[1;32m---> 47\u001b[1;33m         \u001b[1;32mreturn\u001b[0m \u001b[0mfunc\u001b[0m\u001b[1;33m(\u001b[0m\u001b[1;33m*\u001b[0m\u001b[0margs\u001b[0m\u001b[1;33m,\u001b[0m \u001b[1;33m**\u001b[0m\u001b[0mkwargs\u001b[0m\u001b[1;33m)\u001b[0m\u001b[1;33m\u001b[0m\u001b[1;33m\u001b[0m\u001b[0m\n\u001b[0m\u001b[0;32m     48\u001b[0m     \u001b[1;32mreturn\u001b[0m \u001b[0mdecorator\u001b[0m\u001b[1;33m\u001b[0m\u001b[1;33m\u001b[0m\u001b[0m\n\u001b[0;32m     49\u001b[0m \u001b[1;33m\u001b[0m\u001b[0m\n",
      "\u001b[1;32m~\\AppData\\Roaming\\Python\\Python39\\site-packages\\fuzzywuzzy\\fuzz.py\u001b[0m in \u001b[0;36mratio\u001b[1;34m(s1, s2)\u001b[0m\n\u001b[0;32m     26\u001b[0m \u001b[1;33m\u001b[0m\u001b[0m\n\u001b[0;32m     27\u001b[0m     \u001b[0mm\u001b[0m \u001b[1;33m=\u001b[0m \u001b[0mSequenceMatcher\u001b[0m\u001b[1;33m(\u001b[0m\u001b[1;32mNone\u001b[0m\u001b[1;33m,\u001b[0m \u001b[0ms1\u001b[0m\u001b[1;33m,\u001b[0m \u001b[0ms2\u001b[0m\u001b[1;33m)\u001b[0m\u001b[1;33m\u001b[0m\u001b[1;33m\u001b[0m\u001b[0m\n\u001b[1;32m---> 28\u001b[1;33m     \u001b[1;32mreturn\u001b[0m \u001b[0mutils\u001b[0m\u001b[1;33m.\u001b[0m\u001b[0mintr\u001b[0m\u001b[1;33m(\u001b[0m\u001b[1;36m100\u001b[0m \u001b[1;33m*\u001b[0m \u001b[0mm\u001b[0m\u001b[1;33m.\u001b[0m\u001b[0mratio\u001b[0m\u001b[1;33m(\u001b[0m\u001b[1;33m)\u001b[0m\u001b[1;33m)\u001b[0m\u001b[1;33m\u001b[0m\u001b[1;33m\u001b[0m\u001b[0m\n\u001b[0m\u001b[0;32m     29\u001b[0m \u001b[1;33m\u001b[0m\u001b[0m\n\u001b[0;32m     30\u001b[0m \u001b[1;33m\u001b[0m\u001b[0m\n",
      "\u001b[1;32mC:\\Anaconda_program_files\\lib\\difflib.py\u001b[0m in \u001b[0;36mratio\u001b[1;34m(self)\u001b[0m\n\u001b[0;32m    617\u001b[0m         \"\"\"\n\u001b[0;32m    618\u001b[0m \u001b[1;33m\u001b[0m\u001b[0m\n\u001b[1;32m--> 619\u001b[1;33m         \u001b[0mmatches\u001b[0m \u001b[1;33m=\u001b[0m \u001b[0msum\u001b[0m\u001b[1;33m(\u001b[0m\u001b[0mtriple\u001b[0m\u001b[1;33m[\u001b[0m\u001b[1;33m-\u001b[0m\u001b[1;36m1\u001b[0m\u001b[1;33m]\u001b[0m \u001b[1;32mfor\u001b[0m \u001b[0mtriple\u001b[0m \u001b[1;32min\u001b[0m \u001b[0mself\u001b[0m\u001b[1;33m.\u001b[0m\u001b[0mget_matching_blocks\u001b[0m\u001b[1;33m(\u001b[0m\u001b[1;33m)\u001b[0m\u001b[1;33m)\u001b[0m\u001b[1;33m\u001b[0m\u001b[1;33m\u001b[0m\u001b[0m\n\u001b[0m\u001b[0;32m    620\u001b[0m         \u001b[1;32mreturn\u001b[0m \u001b[0m_calculate_ratio\u001b[0m\u001b[1;33m(\u001b[0m\u001b[0mmatches\u001b[0m\u001b[1;33m,\u001b[0m \u001b[0mlen\u001b[0m\u001b[1;33m(\u001b[0m\u001b[0mself\u001b[0m\u001b[1;33m.\u001b[0m\u001b[0ma\u001b[0m\u001b[1;33m)\u001b[0m \u001b[1;33m+\u001b[0m \u001b[0mlen\u001b[0m\u001b[1;33m(\u001b[0m\u001b[0mself\u001b[0m\u001b[1;33m.\u001b[0m\u001b[0mb\u001b[0m\u001b[1;33m)\u001b[0m\u001b[1;33m)\u001b[0m\u001b[1;33m\u001b[0m\u001b[1;33m\u001b[0m\u001b[0m\n\u001b[0;32m    621\u001b[0m \u001b[1;33m\u001b[0m\u001b[0m\n",
      "\u001b[1;32mC:\\Anaconda_program_files\\lib\\difflib.py\u001b[0m in \u001b[0;36mget_matching_blocks\u001b[1;34m(self)\u001b[0m\n\u001b[0;32m    457\u001b[0m             \u001b[1;31m# a[i+k:ahi] vs b[j+k:bhi] unknown\u001b[0m\u001b[1;33m\u001b[0m\u001b[1;33m\u001b[0m\u001b[0m\n\u001b[0;32m    458\u001b[0m             \u001b[1;32mif\u001b[0m \u001b[0mk\u001b[0m\u001b[1;33m:\u001b[0m   \u001b[1;31m# if k is 0, there was no matching block\u001b[0m\u001b[1;33m\u001b[0m\u001b[1;33m\u001b[0m\u001b[0m\n\u001b[1;32m--> 459\u001b[1;33m                 \u001b[0mmatching_blocks\u001b[0m\u001b[1;33m.\u001b[0m\u001b[0mappend\u001b[0m\u001b[1;33m(\u001b[0m\u001b[0mx\u001b[0m\u001b[1;33m)\u001b[0m\u001b[1;33m\u001b[0m\u001b[1;33m\u001b[0m\u001b[0m\n\u001b[0m\u001b[0;32m    460\u001b[0m                 \u001b[1;32mif\u001b[0m \u001b[0malo\u001b[0m \u001b[1;33m<\u001b[0m \u001b[0mi\u001b[0m \u001b[1;32mand\u001b[0m \u001b[0mblo\u001b[0m \u001b[1;33m<\u001b[0m \u001b[0mj\u001b[0m\u001b[1;33m:\u001b[0m\u001b[1;33m\u001b[0m\u001b[1;33m\u001b[0m\u001b[0m\n\u001b[0;32m    461\u001b[0m                     \u001b[0mqueue\u001b[0m\u001b[1;33m.\u001b[0m\u001b[0mappend\u001b[0m\u001b[1;33m(\u001b[0m\u001b[1;33m(\u001b[0m\u001b[0malo\u001b[0m\u001b[1;33m,\u001b[0m \u001b[0mi\u001b[0m\u001b[1;33m,\u001b[0m \u001b[0mblo\u001b[0m\u001b[1;33m,\u001b[0m \u001b[0mj\u001b[0m\u001b[1;33m)\u001b[0m\u001b[1;33m)\u001b[0m\u001b[1;33m\u001b[0m\u001b[1;33m\u001b[0m\u001b[0m\n",
      "\u001b[1;31mKeyboardInterrupt\u001b[0m: "
     ]
    }
   ],
   "source": [
    "list1 = item_list\n",
    "list2 = descs_list\n",
    "\n",
    "for i in list1:\n",
    "    for j in list2:\n",
    "        similarity_score = fuzz.ratio(i, j)\n",
    "        if similarity_score >= 70:\n",
    "            print(i,\"&\", j, \" Are 70% similar\")"
   ]
  },
  {
   "cell_type": "code",
   "execution_count": null,
   "id": "12429d2b",
   "metadata": {},
   "outputs": [],
   "source": []
  },
  {
   "cell_type": "code",
   "execution_count": null,
   "id": "0838d665",
   "metadata": {},
   "outputs": [],
   "source": []
  }
 ],
 "metadata": {
  "kernelspec": {
   "display_name": "Python 3 (ipykernel)",
   "language": "python",
   "name": "python3"
  },
  "language_info": {
   "codemirror_mode": {
    "name": "ipython",
    "version": 3
   },
   "file_extension": ".py",
   "mimetype": "text/x-python",
   "name": "python",
   "nbconvert_exporter": "python",
   "pygments_lexer": "ipython3",
   "version": "3.9.13"
  }
 },
 "nbformat": 4,
 "nbformat_minor": 5
}
