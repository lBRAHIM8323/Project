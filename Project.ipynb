{
 "cells": [
  {
   "cell_type": "code",
   "execution_count": 18,
   "id": "62c168ce",
   "metadata": {},
   "outputs": [],
   "source": [
    "import numpy as np\n",
    "import pandas as pd"
   ]
  },
  {
   "cell_type": "code",
   "execution_count": 19,
   "id": "6aa6bb94",
   "metadata": {},
   "outputs": [],
   "source": [
    "amazon_ds = pd.read_csv(\"amazon_catalogue.csv\", encoding='latin-1')"
   ]
  },
  {
   "cell_type": "code",
   "execution_count": 20,
   "id": "5511085f",
   "metadata": {},
   "outputs": [
    {
     "data": {
      "text/plain": [
       "(43950, 3)"
      ]
     },
     "execution_count": 20,
     "metadata": {},
     "output_type": "execute_result"
    }
   ],
   "source": [
    "amazon_ds.head()\n",
    "amazon_ds.shape"
   ]
  },
  {
   "cell_type": "code",
   "execution_count": 21,
   "id": "af459d5e",
   "metadata": {},
   "outputs": [
    {
     "name": "stderr",
     "output_type": "stream",
     "text": [
      "C:\\Users\\mohammad\\AppData\\Local\\Temp\\ipykernel_19224\\1737326351.py:1: DtypeWarning: Columns (7,8,33) have mixed types. Specify dtype option on import or set low_memory=False.\n",
      "  product_master = pd.read_csv(\"Jaggi_756_ProductMaster.csv\")\n"
     ]
    },
    {
     "data": {
      "text/plain": [
       "(42880, 34)"
      ]
     },
     "execution_count": 21,
     "metadata": {},
     "output_type": "execute_result"
    }
   ],
   "source": [
    "product_master = pd.read_csv(\"Jaggi_756_ProductMaster.csv\")\n",
    "product_master.head()\n",
    "product_master.shape"
   ]
  },
  {
   "cell_type": "code",
   "execution_count": 22,
   "id": "725353bb",
   "metadata": {},
   "outputs": [
    {
     "name": "stdout",
     "output_type": "stream",
     "text": [
      "<class 'pandas.core.frame.DataFrame'>\n",
      "RangeIndex: 42880 entries, 0 to 42879\n",
      "Data columns (total 34 columns):\n",
      " #   Column                         Non-Null Count  Dtype  \n",
      "---  ------                         --------------  -----  \n",
      " 0   Product_ID                     42880 non-null  int64  \n",
      " 1   Client_ID                      42880 non-null  int64  \n",
      " 2   Product_Code                   42879 non-null  object \n",
      " 3   Product_Desc                   42879 non-null  object \n",
      " 4   UOM                            0 non-null      float64\n",
      " 5   Packsize                       41716 non-null  object \n",
      " 6   Manufacturer                   42874 non-null  object \n",
      " 7   MRP                            42724 non-null  object \n",
      " 8   PTS                            42880 non-null  object \n",
      " 9   PTR                            42879 non-null  float64\n",
      " 10  Narco_Product_limit            40949 non-null  float64\n",
      " 11  ProductFormId                  45 non-null     float64\n",
      " 12  Active                         42874 non-null  float64\n",
      " 13  short_supply                   42827 non-null  float64\n",
      " 14  BoxSize                        1937 non-null   object \n",
      " 15  ShortName                      42823 non-null  object \n",
      " 16  CreatedBy                      45 non-null     object \n",
      " 17  CreatedOn                      42841 non-null  object \n",
      " 18  ModifiedBy                     48 non-null     object \n",
      " 19  ModifiedOn                     42760 non-null  object \n",
      " 20  visiable_product_saleman       42865 non-null  float64\n",
      " 21  visiable_product_Retailer      42864 non-null  float64\n",
      " 22  ERPProductID                   40982 non-null  float64\n",
      " 23  CategoryID                     42826 non-null  float64\n",
      " 24  Category                       0 non-null      float64\n",
      " 25  molecular_id                   38 non-null     float64\n",
      " 26  P_ID                           40935 non-null  float64\n",
      " 27  GST_PER                        39 non-null     object \n",
      " 28  Manufacturer_Code              41497 non-null  object \n",
      " 29  ED_MDM_Product_Code            38619 non-null  object \n",
      " 30  ED_MDM_Product_Image           26 non-null     object \n",
      " 31  ED_MDM_Product_Document_Image  0 non-null      float64\n",
      " 32  ED_MDM_Product_Creation_Time   0 non-null      float64\n",
      " 33  Match                          504 non-null    object \n",
      "dtypes: float64(15), int64(2), object(17)\n",
      "memory usage: 11.1+ MB\n"
     ]
    }
   ],
   "source": [
    "product_master.info()"
   ]
  },
  {
   "cell_type": "code",
   "execution_count": 23,
   "id": "7372087b",
   "metadata": {},
   "outputs": [],
   "source": [
    "item_list = []\n",
    "for items in amazon_ds['item_name']:\n",
    "    items = items.upper()\n",
    "    item_list.append(items)\n",
    "# print(item_list)"
   ]
  },
  {
   "cell_type": "code",
   "execution_count": 24,
   "id": "fe20df70",
   "metadata": {},
   "outputs": [],
   "source": [
    "descs_list = []\n",
    "for descs in product_master['Product_Desc']:\n",
    "    descs = str(descs)\n",
    "    descs_list.append(descs)    \n",
    "# print(descs_list)"
   ]
  },
  {
   "cell_type": "code",
   "execution_count": 25,
   "id": "5e9a526b",
   "metadata": {},
   "outputs": [
    {
     "name": "stdout",
     "output_type": "stream",
     "text": [
      "(XMET-TRIO) 500/0.3/2 - STRIP OF 10 TABLETS & XMET TRIO 500/0.2/1 10^S Are similar\n",
      "(XMET-TRIO) 500/0.3/2 - STRIP OF 10 TABLETS & XMET TRIO 500/0.2/2 10^S Are similar\n",
      "(XMET-TRIO) 500/0.3/2 - STRIP OF 10 TABLETS & XMET TRIO 500/0.3/2 SR 10^S Are similar\n",
      "1 AL M - STRIP OF 10 TABLETS & ASTIN 10 TABLETS 30S Are similar\n",
      "1 AL M - STRIP OF 10 TABLETS & MSN SITA D 10 TABLET 10^S Are similar\n",
      "1-AL - STRIP OF 10 TABLETS & ASTIN 10 TABLETS 30S Are similar\n",
      "1-AL - STRIP OF 10 TABLETS & ATORLIP F 10 TAB 15^S Are similar\n",
      "1-AL - STRIP OF 10 TABLETS & LN TRIO 10 TABS 1*15 Are similar\n",
      "1-AL - STRIP OF 10 TABLETS & RISOFOS 150 TABLETS 1^S Are similar\n",
      "1-AL - STRIP OF 10 TABLETS & RIZATRIP ODT 10MG TAB 6S Are similar\n",
      "1-AL - STRIP OF 10 TABLETS & VITARESP FX 120 TABLET 15^S Are similar\n",
      "1-AL - STRIP OF 10 TABLETS & VITARESP FX 180 TABLET 10^S Are similar\n",
      "1-AL - STRIP OF 10 TABLETS & ZAYO 100 TABLETS Are similar\n",
      "1-AL - STRIP OF 10 TABLETS & TOFE 10 TABLETS 10^S Are similar\n",
      "1-AL 10 - STRIP OF 10 TABLETS & ASTIN 10 TABLETS 30S Are similar\n",
      "2 B12 - STRIP OF 15 TABLETS & RISOFOS 150 TABLETS 1^S Are similar\n",
      "2SITOL - STRIP OF 10 CAPSULES & METOLAR XR 100 CAPSULE 10S Are similar\n",
      "2SITOL - STRIP OF 10 CAPSULES & METOLAR XR 100 CAPSULE 10S Are similar\n",
      "3 VC - STRIP OF 3 SUPPOSITORIES & 3 NITE SUPPOSITORIES 3C Are similar\n",
      "3-NITE - STRIP OF 3 SUPPOSITORIES & 3 NITE SUPPOSITORIES 3C Are similar\n",
      "4 QUIN - TUBE OF 5 GM EYE OINTMENT & 4 QUIN EYE OINT 5GM Are similar\n",
      "4PH - STRIP OF 15 TABLETS & PIOZ 15 TABLETS 1*10 Are similar\n",
      "4PH - STRIP OF 15 TABLETS & RISOFOS 150 TABLETS 1^S Are similar\n",
      "4PH - STRIP OF 15 TABLETS & RISOFOS 35 TABLET 4^S Are similar\n",
      "6-ART - STRIP OF 10 TABLETS & ASTIN 10 TABLETS 30S Are similar\n",
      "6-ART - STRIP OF 10 TABLETS & RISOFOS 150 TABLETS 1^S Are similar\n",
      "6-ART - STRIP OF 10 TABLETS & ROSUR 10 TABLET 10S Are similar\n",
      "6-ART - STRIP OF 10 TABLETS & VITARESP FX 120 TABLET 15^S Are similar\n",
      "6-ART - STRIP OF 10 TABLETS & VITARESP FX 180 TABLET 10^S Are similar\n",
      "6-ART - STRIP OF 10 TABLETS & ZAYO 100 TABLETS Are similar\n",
      "6-ART - STRIP OF 10 TABLETS & TOFE 10 TABLETS 10^S Are similar\n",
      "6-ART - STRIP OF 10 TABLETS & VITARESP FX 120 TABLET 10T Are similar\n",
      "6-ART - STRIP OF 10 TABLETS & ASTIN 10 TABLETS 30S Are similar\n",
      "6-ART - STRIP OF 10 TABLETS & RISOFOS 150 TABLETS 1^S Are similar\n",
      "6-ART - STRIP OF 10 TABLETS & ROSUR 10 TABLET 10S Are similar\n",
      "6-ART - STRIP OF 10 TABLETS & VITARESP FX 120 TABLET 15^S Are similar\n",
      "6-ART - STRIP OF 10 TABLETS & VITARESP FX 180 TABLET 10^S Are similar\n",
      "6-ART - STRIP OF 10 TABLETS & ZAYO 100 TABLETS Are similar\n",
      "6-ART - STRIP OF 10 TABLETS & TOFE 10 TABLETS 10^S Are similar\n",
      "6-ART - STRIP OF 10 TABLETS & VITARESP FX 120 TABLET 10T Are similar\n",
      "6-MP - STRIP OF 10 TABLETS & ASTIN 10 TABLETS 30S Are similar\n",
      "6-MP - STRIP OF 10 TABLETS & ATORLIP F 10 TAB 15^S Are similar\n",
      "6-MP - STRIP OF 10 TABLETS & RISOFOS 150 TABLETS 1^S Are similar\n",
      "6-MP - STRIP OF 10 TABLETS & TOFE 10 TABLETS 10^S Are similar\n",
      "6-MP - STRIP OF 10 TABLETS & MSN SITA D 10 TABLET 10^S Are similar\n",
      "6-MP - STRIP OF 10 TABLETS & MSN SITA DM 10 TABLET 10^S Are similar\n",
      "7 RCR - STRIP OF 10 TABLETS & ASTIN 10 TABLETS 30S Are similar\n",
      "7 RCR - STRIP OF 10 TABLETS & RISOFOS 150 TABLETS 1^S Are similar\n",
      "7 RCR - STRIP OF 10 TABLETS & ROSUR F 10 TABLET 10S Are similar\n",
      "7 RCR - STRIP OF 10 TABLETS & TOFE 10 TABLETS 10^S Are similar\n",
      "9 M FOL - STRIP OF 10 TABLETS & 9 FB SR 200 TABLET 10^S Are similar\n",
      "9FB SR 200 - STRIP OF 10 TABLETS & 9 FB SR 200 TAB 10^S Are similar\n",
      "9FB SR 200 - STRIP OF 10 TABLETS & 9 FB SR 200 TABLET 10^S Are similar\n",
      "9FB SR 300 - STRIP OF 10 TABLETS & 9 FB SR 200 TABLET 10^S Are similar\n",
      "A BEC L - BOTTLE OF 30 TABLETS & RECLIMET OD 30 TABLET 15^S Are similar\n",
      "A BEC TABLET & TONACT 5 TABLET 15 Are similar\n",
      "A BEC TABLET & LINAONE TABLET 10S Are similar\n",
      "A BEC TABLET & COQ LC TABLET 10S Are similar\n",
      "A BEC TABLET & ABATACT TAB Are similar\n",
      "A BEC TABLET & ACOPEP TABLET 10^S Are similar\n",
      "A BEC TABLET & ACQ TAB Are similar\n",
      "A BEC TABLET & AIDANE-G TABLET Are similar\n",
      "A BEC TABLET & ALLEGCURE TABLETS 10S Are similar\n",
      "A BEC TABLET & AMTAS E TABLETS 15^S Are similar\n",
      "A BEC TABLET & ASERP TABLET 10.S Are similar\n",
      "A BEC TABLET & ATEN 25 TABLET 14 Are similar\n",
      "A BEC TABLET & ATOCOR E TABLETS 10^S Are similar\n",
      "A BEC TABLET & ATORVA E TABLET 10^S Are similar\n",
      "A BEC TABLET & BALVIBE TAB Are similar\n",
      "A BEC TABLET & BEPOMAC  TABLETS 10.S Are similar\n",
      "A BEC TABLET & BIGRISE TABLET 4^S Are similar\n",
      "A BEC TABLET & BUBCA TABLET Are similar\n",
      "A BEC TABLET & CAMAZ  TABLET 10T Are similar\n",
      "A BEC TABLET & CAMAZ CK TABLET 10S Are similar\n",
      "A BEC TABLET & COQ TABLET 10S Are similar\n",
      "A BEC TABLET & DIABEND TAB Are similar\n",
      "A BEC TABLET & DIAREX TABLET 30^S Are similar\n",
      "A BEC TABLET & FABOVA TABLETS 5.S Are similar\n",
      "A BEC TABLET & GASEX TABLET 100^S Are similar\n",
      "A BEC TABLET & HAIRBLESS TABLET 10^S Are similar\n",
      "A BEC TABLET & HEPAMAC TABLET 10S Are similar\n",
      "A BEC TABLET & RABESEC 20MG TABLET 10S Are similar\n",
      "A BEC TABLET & RABESEC D TABLET 10^S Are similar\n",
      "A BEC TABLET & RENCHEK TABLETS Are similar\n",
      "A BEC TABLET & SBC TILE Are similar\n",
      "A BEC TABLET & TAYO 7K TABLET 15S Are similar\n",
      "A BEC TABLET & THIAMIN TABLET Are similar\n",
      "A BEC TABLET & U CAL  TABLET 10S Are similar\n",
      "A BEC TABLET & UBIREX TABLET Are similar\n",
      "A BEC TABLET & XDOL TABLET Are similar\n",
      "A BEC TABLET & ZAYO 100 TABLETS Are similar\n",
      "A BEC TABLET & ZAYO 200 TABLETS Are similar\n",
      "A BEC TABLET & ZAYO 50 TABLETS Are similar\n",
      "A BEC TABLET & ADBOOST TABLET 10T Are similar\n",
      "A BEC TABLET & LUMIA CK TABLET 10^S Are similar\n",
      "A DOXID - STRIP OF 10 TABLETS & ASTIN 10 TABLETS 30S Are similar\n",
      "A DOXID - STRIP OF 10 TABLETS & ATORLIP F 10 TAB 15^S Are similar\n",
      "A STAR-P - STRIP OF 10 TABLETS & ASTIN 10 TABLETS 30S Are similar\n",
      "A STAR-P - STRIP OF 10 TABLETS & VITARESP FX 120 TABLET 15^S Are similar\n",
      "A STAR-P - STRIP OF 10 TABLETS & VITARESP FX 180 TABLET 10^S Are similar\n",
      "A STAR-P - STRIP OF 10 TABLETS & ASTIN 10 TABLETS 30S Are similar\n",
      "A STAR-P - STRIP OF 10 TABLETS & VITARESP FX 120 TABLET 15^S Are similar\n",
      "A STAR-P - STRIP OF 10 TABLETS & VITARESP FX 180 TABLET 10^S Are similar\n",
      "A TO Z GOLD - STRIP OF 15 CAPSULES & A TO Z GOLD CAP NS 15CAP Are similar\n",
      "A TO Z GOLD - STRIP OF 15 CAPSULES & A TO Z GOLD CAPS 15^S Are similar\n",
      "A TO Z GOLD - STRIP OF 15 CAPSULES & ATHZOL DSR CAPSULE 10^S Are similar\n",
      "A TO Z IMMUNE - STRIP OF 16 TABLETS & A TO Z IMMUNE TABS 1*16 Are similar\n",
      "A TO Z IMMUNE - STRIP OF 16 TABLETS & A TO Z IMMUNE TABS 16^S Are similar\n",
      "A TO Z NS - BOTTLE OF 200ML SYRUP & A TO Z NS SYP # 200ML Are similar\n",
      "A TO Z NS - BOTTLE OF 200ML SYRUP & A TO Z NS SYP # 200ML Are similar\n",
      "A TO Z NS - STRIP OF 15 TABLETS & A TO Z NS + DROP 5% 15ML Are similar\n",
      "A TO Z NS - STRIP OF 15 TABLETS & A TO Z NS + DROP # 15ML Are similar\n",
      "A TO Z NS - STRIP OF 15 TABLETS & A TO Z NS + DROPS 15ML Are similar\n",
      "A TO Z NS - STRIP OF 15 TABLETS & A TO Z NS + TAB 15T Are similar\n",
      "A TO Z NS - STRIP OF 15 TABLETS & A TO Z NS + TAB 15S Are similar\n",
      "A TO Z NS MANGO - BOTTLE OF 200ML SYRUP & A TO Z NS SYRUP(MANGO) 200ML Are similar\n",
      "A TRET 25 MG - STRIP OF 10 CAPSULES & ACUTRET 20 MG CAP 10CAP Are similar\n",
      "AB FLO N - STRIP OF 10 TABLETS & ASTIN 10 TABLETS 30S Are similar\n",
      "AB FLO N - STRIP OF 10 TABLETS & LN TRIO 10 TABS 1*15 Are similar\n",
      "AB FLO N - STRIP OF 10 TABLETS & GABATOR NT 100 TABLET 10^S Are similar\n",
      "AB GATES - STRIP OF 10 TABLETS & ASTIN 10 TABLETS 30S Are similar\n",
      "AB GATES - STRIP OF 10 TABLETS & VITARESP FX 120 TABLET 15^S Are similar\n",
      "AB GATES - STRIP OF 10 TABLETS & VITARESP FX 180 TABLET 10^S Are similar\n",
      "AB GATES - STRIP OF 10 TABLETS & GABATOR NT 100 TABLET 10^S Are similar\n"
     ]
    },
    {
     "ename": "KeyboardInterrupt",
     "evalue": "",
     "output_type": "error",
     "traceback": [
      "\u001b[1;31m---------------------------------------------------------------------------\u001b[0m",
      "\u001b[1;31mKeyboardInterrupt\u001b[0m                         Traceback (most recent call last)",
      "\u001b[1;32m~\\AppData\\Local\\Temp\\ipykernel_19224\\1897421928.py\u001b[0m in \u001b[0;36m<module>\u001b[1;34m\u001b[0m\n\u001b[0;32m      6\u001b[0m \u001b[1;32mfor\u001b[0m \u001b[0mi\u001b[0m \u001b[1;32min\u001b[0m \u001b[0mlist1\u001b[0m\u001b[1;33m:\u001b[0m\u001b[1;33m\u001b[0m\u001b[1;33m\u001b[0m\u001b[0m\n\u001b[0;32m      7\u001b[0m     \u001b[1;32mfor\u001b[0m \u001b[0mj\u001b[0m \u001b[1;32min\u001b[0m \u001b[0mlist2\u001b[0m\u001b[1;33m:\u001b[0m\u001b[1;33m\u001b[0m\u001b[1;33m\u001b[0m\u001b[0m\n\u001b[1;32m----> 8\u001b[1;33m         \u001b[0msimilarity_score\u001b[0m \u001b[1;33m=\u001b[0m \u001b[0mfuzz\u001b[0m\u001b[1;33m.\u001b[0m\u001b[0mratio\u001b[0m\u001b[1;33m(\u001b[0m\u001b[0mi\u001b[0m\u001b[1;33m,\u001b[0m \u001b[0mj\u001b[0m\u001b[1;33m)\u001b[0m\u001b[1;33m\u001b[0m\u001b[1;33m\u001b[0m\u001b[0m\n\u001b[0m\u001b[0;32m      9\u001b[0m \u001b[1;31m#         print(f\"Similarity between '{i}' and '{j}': {similarity_score}\")\u001b[0m\u001b[1;33m\u001b[0m\u001b[1;33m\u001b[0m\u001b[0m\n\u001b[0;32m     10\u001b[0m         \u001b[1;32mif\u001b[0m \u001b[0msimilarity_score\u001b[0m \u001b[1;33m>=\u001b[0m \u001b[1;36m60\u001b[0m\u001b[1;33m:\u001b[0m\u001b[1;33m\u001b[0m\u001b[1;33m\u001b[0m\u001b[0m\n",
      "\u001b[1;32m~\\AppData\\Roaming\\Python\\Python39\\site-packages\\fuzzywuzzy\\utils.py\u001b[0m in \u001b[0;36mdecorator\u001b[1;34m(*args, **kwargs)\u001b[0m\n\u001b[0;32m     36\u001b[0m         \u001b[1;32mif\u001b[0m \u001b[0margs\u001b[0m\u001b[1;33m[\u001b[0m\u001b[1;36m0\u001b[0m\u001b[1;33m]\u001b[0m \u001b[1;32mis\u001b[0m \u001b[1;32mNone\u001b[0m \u001b[1;32mor\u001b[0m \u001b[0margs\u001b[0m\u001b[1;33m[\u001b[0m\u001b[1;36m1\u001b[0m\u001b[1;33m]\u001b[0m \u001b[1;32mis\u001b[0m \u001b[1;32mNone\u001b[0m\u001b[1;33m:\u001b[0m\u001b[1;33m\u001b[0m\u001b[1;33m\u001b[0m\u001b[0m\n\u001b[0;32m     37\u001b[0m             \u001b[1;32mreturn\u001b[0m \u001b[1;36m0\u001b[0m\u001b[1;33m\u001b[0m\u001b[1;33m\u001b[0m\u001b[0m\n\u001b[1;32m---> 38\u001b[1;33m         \u001b[1;32mreturn\u001b[0m \u001b[0mfunc\u001b[0m\u001b[1;33m(\u001b[0m\u001b[1;33m*\u001b[0m\u001b[0margs\u001b[0m\u001b[1;33m,\u001b[0m \u001b[1;33m**\u001b[0m\u001b[0mkwargs\u001b[0m\u001b[1;33m)\u001b[0m\u001b[1;33m\u001b[0m\u001b[1;33m\u001b[0m\u001b[0m\n\u001b[0m\u001b[0;32m     39\u001b[0m     \u001b[1;32mreturn\u001b[0m \u001b[0mdecorator\u001b[0m\u001b[1;33m\u001b[0m\u001b[1;33m\u001b[0m\u001b[0m\n\u001b[0;32m     40\u001b[0m \u001b[1;33m\u001b[0m\u001b[0m\n",
      "\u001b[1;32m~\\AppData\\Roaming\\Python\\Python39\\site-packages\\fuzzywuzzy\\utils.py\u001b[0m in \u001b[0;36mdecorator\u001b[1;34m(*args, **kwargs)\u001b[0m\n\u001b[0;32m     27\u001b[0m         \u001b[1;32mif\u001b[0m \u001b[0margs\u001b[0m\u001b[1;33m[\u001b[0m\u001b[1;36m0\u001b[0m\u001b[1;33m]\u001b[0m \u001b[1;33m==\u001b[0m \u001b[0margs\u001b[0m\u001b[1;33m[\u001b[0m\u001b[1;36m1\u001b[0m\u001b[1;33m]\u001b[0m\u001b[1;33m:\u001b[0m\u001b[1;33m\u001b[0m\u001b[1;33m\u001b[0m\u001b[0m\n\u001b[0;32m     28\u001b[0m             \u001b[1;32mreturn\u001b[0m \u001b[1;36m100\u001b[0m\u001b[1;33m\u001b[0m\u001b[1;33m\u001b[0m\u001b[0m\n\u001b[1;32m---> 29\u001b[1;33m         \u001b[1;32mreturn\u001b[0m \u001b[0mfunc\u001b[0m\u001b[1;33m(\u001b[0m\u001b[1;33m*\u001b[0m\u001b[0margs\u001b[0m\u001b[1;33m,\u001b[0m \u001b[1;33m**\u001b[0m\u001b[0mkwargs\u001b[0m\u001b[1;33m)\u001b[0m\u001b[1;33m\u001b[0m\u001b[1;33m\u001b[0m\u001b[0m\n\u001b[0m\u001b[0;32m     30\u001b[0m     \u001b[1;32mreturn\u001b[0m \u001b[0mdecorator\u001b[0m\u001b[1;33m\u001b[0m\u001b[1;33m\u001b[0m\u001b[0m\n\u001b[0;32m     31\u001b[0m \u001b[1;33m\u001b[0m\u001b[0m\n",
      "\u001b[1;32m~\\AppData\\Roaming\\Python\\Python39\\site-packages\\fuzzywuzzy\\utils.py\u001b[0m in \u001b[0;36mdecorator\u001b[1;34m(*args, **kwargs)\u001b[0m\n\u001b[0;32m     45\u001b[0m         \u001b[1;32mif\u001b[0m \u001b[0mlen\u001b[0m\u001b[1;33m(\u001b[0m\u001b[0margs\u001b[0m\u001b[1;33m[\u001b[0m\u001b[1;36m0\u001b[0m\u001b[1;33m]\u001b[0m\u001b[1;33m)\u001b[0m \u001b[1;33m==\u001b[0m \u001b[1;36m0\u001b[0m \u001b[1;32mor\u001b[0m \u001b[0mlen\u001b[0m\u001b[1;33m(\u001b[0m\u001b[0margs\u001b[0m\u001b[1;33m[\u001b[0m\u001b[1;36m1\u001b[0m\u001b[1;33m]\u001b[0m\u001b[1;33m)\u001b[0m \u001b[1;33m==\u001b[0m \u001b[1;36m0\u001b[0m\u001b[1;33m:\u001b[0m\u001b[1;33m\u001b[0m\u001b[1;33m\u001b[0m\u001b[0m\n\u001b[0;32m     46\u001b[0m             \u001b[1;32mreturn\u001b[0m \u001b[1;36m0\u001b[0m\u001b[1;33m\u001b[0m\u001b[1;33m\u001b[0m\u001b[0m\n\u001b[1;32m---> 47\u001b[1;33m         \u001b[1;32mreturn\u001b[0m \u001b[0mfunc\u001b[0m\u001b[1;33m(\u001b[0m\u001b[1;33m*\u001b[0m\u001b[0margs\u001b[0m\u001b[1;33m,\u001b[0m \u001b[1;33m**\u001b[0m\u001b[0mkwargs\u001b[0m\u001b[1;33m)\u001b[0m\u001b[1;33m\u001b[0m\u001b[1;33m\u001b[0m\u001b[0m\n\u001b[0m\u001b[0;32m     48\u001b[0m     \u001b[1;32mreturn\u001b[0m \u001b[0mdecorator\u001b[0m\u001b[1;33m\u001b[0m\u001b[1;33m\u001b[0m\u001b[0m\n\u001b[0;32m     49\u001b[0m \u001b[1;33m\u001b[0m\u001b[0m\n",
      "\u001b[1;32m~\\AppData\\Roaming\\Python\\Python39\\site-packages\\fuzzywuzzy\\fuzz.py\u001b[0m in \u001b[0;36mratio\u001b[1;34m(s1, s2)\u001b[0m\n\u001b[0;32m     26\u001b[0m \u001b[1;33m\u001b[0m\u001b[0m\n\u001b[0;32m     27\u001b[0m     \u001b[0mm\u001b[0m \u001b[1;33m=\u001b[0m \u001b[0mSequenceMatcher\u001b[0m\u001b[1;33m(\u001b[0m\u001b[1;32mNone\u001b[0m\u001b[1;33m,\u001b[0m \u001b[0ms1\u001b[0m\u001b[1;33m,\u001b[0m \u001b[0ms2\u001b[0m\u001b[1;33m)\u001b[0m\u001b[1;33m\u001b[0m\u001b[1;33m\u001b[0m\u001b[0m\n\u001b[1;32m---> 28\u001b[1;33m     \u001b[1;32mreturn\u001b[0m \u001b[0mutils\u001b[0m\u001b[1;33m.\u001b[0m\u001b[0mintr\u001b[0m\u001b[1;33m(\u001b[0m\u001b[1;36m100\u001b[0m \u001b[1;33m*\u001b[0m \u001b[0mm\u001b[0m\u001b[1;33m.\u001b[0m\u001b[0mratio\u001b[0m\u001b[1;33m(\u001b[0m\u001b[1;33m)\u001b[0m\u001b[1;33m)\u001b[0m\u001b[1;33m\u001b[0m\u001b[1;33m\u001b[0m\u001b[0m\n\u001b[0m\u001b[0;32m     29\u001b[0m \u001b[1;33m\u001b[0m\u001b[0m\n\u001b[0;32m     30\u001b[0m \u001b[1;33m\u001b[0m\u001b[0m\n",
      "\u001b[1;32mC:\\Anaconda_program_files\\lib\\difflib.py\u001b[0m in \u001b[0;36mratio\u001b[1;34m(self)\u001b[0m\n\u001b[0;32m    617\u001b[0m         \"\"\"\n\u001b[0;32m    618\u001b[0m \u001b[1;33m\u001b[0m\u001b[0m\n\u001b[1;32m--> 619\u001b[1;33m         \u001b[0mmatches\u001b[0m \u001b[1;33m=\u001b[0m \u001b[0msum\u001b[0m\u001b[1;33m(\u001b[0m\u001b[0mtriple\u001b[0m\u001b[1;33m[\u001b[0m\u001b[1;33m-\u001b[0m\u001b[1;36m1\u001b[0m\u001b[1;33m]\u001b[0m \u001b[1;32mfor\u001b[0m \u001b[0mtriple\u001b[0m \u001b[1;32min\u001b[0m \u001b[0mself\u001b[0m\u001b[1;33m.\u001b[0m\u001b[0mget_matching_blocks\u001b[0m\u001b[1;33m(\u001b[0m\u001b[1;33m)\u001b[0m\u001b[1;33m)\u001b[0m\u001b[1;33m\u001b[0m\u001b[1;33m\u001b[0m\u001b[0m\n\u001b[0m\u001b[0;32m    620\u001b[0m         \u001b[1;32mreturn\u001b[0m \u001b[0m_calculate_ratio\u001b[0m\u001b[1;33m(\u001b[0m\u001b[0mmatches\u001b[0m\u001b[1;33m,\u001b[0m \u001b[0mlen\u001b[0m\u001b[1;33m(\u001b[0m\u001b[0mself\u001b[0m\u001b[1;33m.\u001b[0m\u001b[0ma\u001b[0m\u001b[1;33m)\u001b[0m \u001b[1;33m+\u001b[0m \u001b[0mlen\u001b[0m\u001b[1;33m(\u001b[0m\u001b[0mself\u001b[0m\u001b[1;33m.\u001b[0m\u001b[0mb\u001b[0m\u001b[1;33m)\u001b[0m\u001b[1;33m)\u001b[0m\u001b[1;33m\u001b[0m\u001b[1;33m\u001b[0m\u001b[0m\n\u001b[0;32m    621\u001b[0m \u001b[1;33m\u001b[0m\u001b[0m\n",
      "\u001b[1;32mC:\\Anaconda_program_files\\lib\\difflib.py\u001b[0m in \u001b[0;36mget_matching_blocks\u001b[1;34m(self)\u001b[0m\n\u001b[0;32m    452\u001b[0m         \u001b[1;32mwhile\u001b[0m \u001b[0mqueue\u001b[0m\u001b[1;33m:\u001b[0m\u001b[1;33m\u001b[0m\u001b[1;33m\u001b[0m\u001b[0m\n\u001b[0;32m    453\u001b[0m             \u001b[0malo\u001b[0m\u001b[1;33m,\u001b[0m \u001b[0mahi\u001b[0m\u001b[1;33m,\u001b[0m \u001b[0mblo\u001b[0m\u001b[1;33m,\u001b[0m \u001b[0mbhi\u001b[0m \u001b[1;33m=\u001b[0m \u001b[0mqueue\u001b[0m\u001b[1;33m.\u001b[0m\u001b[0mpop\u001b[0m\u001b[1;33m(\u001b[0m\u001b[1;33m)\u001b[0m\u001b[1;33m\u001b[0m\u001b[1;33m\u001b[0m\u001b[0m\n\u001b[1;32m--> 454\u001b[1;33m             \u001b[0mi\u001b[0m\u001b[1;33m,\u001b[0m \u001b[0mj\u001b[0m\u001b[1;33m,\u001b[0m \u001b[0mk\u001b[0m \u001b[1;33m=\u001b[0m \u001b[0mx\u001b[0m \u001b[1;33m=\u001b[0m \u001b[0mself\u001b[0m\u001b[1;33m.\u001b[0m\u001b[0mfind_longest_match\u001b[0m\u001b[1;33m(\u001b[0m\u001b[0malo\u001b[0m\u001b[1;33m,\u001b[0m \u001b[0mahi\u001b[0m\u001b[1;33m,\u001b[0m \u001b[0mblo\u001b[0m\u001b[1;33m,\u001b[0m \u001b[0mbhi\u001b[0m\u001b[1;33m)\u001b[0m\u001b[1;33m\u001b[0m\u001b[1;33m\u001b[0m\u001b[0m\n\u001b[0m\u001b[0;32m    455\u001b[0m             \u001b[1;31m# a[alo:i] vs b[blo:j] unknown\u001b[0m\u001b[1;33m\u001b[0m\u001b[1;33m\u001b[0m\u001b[0m\n\u001b[0;32m    456\u001b[0m             \u001b[1;31m# a[i:i+k] same as b[j:j+k]\u001b[0m\u001b[1;33m\u001b[0m\u001b[1;33m\u001b[0m\u001b[0m\n",
      "\u001b[1;32mC:\\Anaconda_program_files\\lib\\difflib.py\u001b[0m in \u001b[0;36mfind_longest_match\u001b[1;34m(self, alo, ahi, blo, bhi)\u001b[0m\n\u001b[0;32m    377\u001b[0m             \u001b[0mj2lenget\u001b[0m \u001b[1;33m=\u001b[0m \u001b[0mj2len\u001b[0m\u001b[1;33m.\u001b[0m\u001b[0mget\u001b[0m\u001b[1;33m\u001b[0m\u001b[1;33m\u001b[0m\u001b[0m\n\u001b[0;32m    378\u001b[0m             \u001b[0mnewj2len\u001b[0m \u001b[1;33m=\u001b[0m \u001b[1;33m{\u001b[0m\u001b[1;33m}\u001b[0m\u001b[1;33m\u001b[0m\u001b[1;33m\u001b[0m\u001b[0m\n\u001b[1;32m--> 379\u001b[1;33m             \u001b[1;32mfor\u001b[0m \u001b[0mj\u001b[0m \u001b[1;32min\u001b[0m \u001b[0mb2j\u001b[0m\u001b[1;33m.\u001b[0m\u001b[0mget\u001b[0m\u001b[1;33m(\u001b[0m\u001b[0ma\u001b[0m\u001b[1;33m[\u001b[0m\u001b[0mi\u001b[0m\u001b[1;33m]\u001b[0m\u001b[1;33m,\u001b[0m \u001b[0mnothing\u001b[0m\u001b[1;33m)\u001b[0m\u001b[1;33m:\u001b[0m\u001b[1;33m\u001b[0m\u001b[1;33m\u001b[0m\u001b[0m\n\u001b[0m\u001b[0;32m    380\u001b[0m                 \u001b[1;31m# a[i] matches b[j]\u001b[0m\u001b[1;33m\u001b[0m\u001b[1;33m\u001b[0m\u001b[0m\n\u001b[0;32m    381\u001b[0m                 \u001b[1;32mif\u001b[0m \u001b[0mj\u001b[0m \u001b[1;33m<\u001b[0m \u001b[0mblo\u001b[0m\u001b[1;33m:\u001b[0m\u001b[1;33m\u001b[0m\u001b[1;33m\u001b[0m\u001b[0m\n",
      "\u001b[1;31mKeyboardInterrupt\u001b[0m: "
     ]
    }
   ],
   "source": [
    "from fuzzywuzzy import fuzz\n",
    "\n",
    "list1 = item_list\n",
    "list2 = descs_list\n",
    "\n",
    "for i in list1:\n",
    "    for j in list2:\n",
    "        similarity_score = fuzz.ratio(i, j)\n",
    "#         print(f\"Similarity between '{i}' and '{j}': {similarity_score}\")\n",
    "        if similarity_score >= 60:\n",
    "            print(i,\"&\", j, \"Are similar\")\n",
    "            \n",
    "            \n",
    "        "
   ]
  }
 ],
 "metadata": {
  "kernelspec": {
   "display_name": "Python 3 (ipykernel)",
   "language": "python",
   "name": "python3"
  },
  "language_info": {
   "codemirror_mode": {
    "name": "ipython",
    "version": 3
   },
   "file_extension": ".py",
   "mimetype": "text/x-python",
   "name": "python",
   "nbconvert_exporter": "python",
   "pygments_lexer": "ipython3",
   "version": "3.9.13"
  }
 },
 "nbformat": 4,
 "nbformat_minor": 5
}
